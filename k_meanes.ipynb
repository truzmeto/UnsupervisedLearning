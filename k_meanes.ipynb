{
 "cells": [
  {
   "cell_type": "markdown",
   "metadata": {},
   "source": [
    "## Adult Data"
   ]
  },
  {
   "cell_type": "markdown",
   "metadata": {},
   "source": [
    "** Import the libraries you usually use for data analysis.**"
   ]
  },
  {
   "cell_type": "code",
   "execution_count": 64,
   "metadata": {
    "collapsed": true
   },
   "outputs": [],
   "source": [
    "import pandas as pd\n",
    "import numpy as np\n",
    "import matplotlib.pyplot as plt\n",
    "import seaborn as sns\n",
    "%matplotlib inline\n",
    "from sklearn.cluster import KMeans\n",
    "from sklearn.metrics import confusion_matrix,classification_report\n",
    "from mpl_toolkits.mplot3d import Axes3D # 3d scatter plot"
   ]
  },
  {
   "cell_type": "code",
   "execution_count": 96,
   "metadata": {
    "collapsed": true
   },
   "outputs": [],
   "source": [
    "# parameters\n",
    "n_seed = 111\n",
    "n_centroids = 2\n",
    "n_init = 10"
   ]
  },
  {
   "cell_type": "code",
   "execution_count": 97,
   "metadata": {
    "collapsed": false
   },
   "outputs": [],
   "source": [
    "df = pd.read_csv('./clean_data/adult_train.txt',index_col=False)\n",
    "labels = df['income']\n",
    "df = df.drop('income',axis=1)"
   ]
  },
  {
   "cell_type": "code",
   "execution_count": 5,
   "metadata": {
    "collapsed": false
   },
   "outputs": [
    {
     "name": "stdout",
     "output_type": "stream",
     "text": [
      "[[13957  8697]\n",
      " [ 2343  5165]]\n",
      "             precision    recall  f1-score   support\n",
      "\n",
      "          0       0.86      0.62      0.72     22654\n",
      "          1       0.37      0.69      0.48      7508\n",
      "\n",
      "avg / total       0.74      0.63      0.66     30162\n",
      "\n"
     ]
    }
   ],
   "source": [
    "print(confusion_matrix(labels, kmeans.labels_))\n",
    "print(classification_report(labels, kmeans.labels_))"
   ]
  },
  {
   "cell_type": "code",
   "execution_count": 98,
   "metadata": {
    "collapsed": false
   },
   "outputs": [],
   "source": [
    "# normalize only continuous numeric columns\n",
    "a = df[['age','hr_per_week']]\n",
    "df[['age','hr_per_week']] = (a - a.mean()) / np.std(a)"
   ]
  },
  {
   "cell_type": "markdown",
   "metadata": {},
   "source": [
    "### Apply K Means"
   ]
  },
  {
   "cell_type": "code",
   "execution_count": 109,
   "metadata": {
    "collapsed": false
   },
   "outputs": [
    {
     "data": {
      "text/plain": [
       "KMeans(algorithm='auto', copy_x=True, init='k-means++', max_iter=300,\n",
       "    n_clusters=2, n_init=10, n_jobs=1, precompute_distances='auto',\n",
       "    random_state=111, tol=0.0001, verbose=0)"
      ]
     },
     "execution_count": 109,
     "metadata": {},
     "output_type": "execute_result"
    }
   ],
   "source": [
    "kmeans = KMeans(n_clusters=n_centroids, random_state=n_seed, n_init=n_init)\n",
    "kmeans.fit(df)"
   ]
  },
  {
   "cell_type": "code",
   "execution_count": 108,
   "metadata": {
    "collapsed": false
   },
   "outputs": [
    {
     "name": "stdout",
     "output_type": "stream",
     "text": [
      "[[13703  8951]\n",
      " [ 1030  6478]]\n",
      "             precision    recall  f1-score   support\n",
      "\n",
      "          0       0.93      0.60      0.73     22654\n",
      "          1       0.42      0.86      0.56      7508\n",
      "\n",
      "avg / total       0.80      0.67      0.69     30162\n",
      "\n"
     ]
    }
   ],
   "source": [
    "print(confusion_matrix(labels,kmeans.labels_))\n",
    "print(classification_report(labels,kmeans.labels_))"
   ]
  },
  {
   "cell_type": "markdown",
   "metadata": {},
   "source": [
    "### Apply EM"
   ]
  },
  {
   "cell_type": "code",
   "execution_count": 101,
   "metadata": {
    "collapsed": true
   },
   "outputs": [],
   "source": [
    "from sklearn.mixture import GaussianMixture"
   ]
  },
  {
   "cell_type": "code",
   "execution_count": 102,
   "metadata": {
    "collapsed": false
   },
   "outputs": [
    {
     "data": {
      "text/plain": [
       "GaussianMixture(covariance_type='full', init_params='kmeans', max_iter=100,\n",
       "        means_init=None, n_components=2, n_init=10, precisions_init=None,\n",
       "        random_state=111, reg_covar=1e-06, tol=0.001, verbose=0,\n",
       "        verbose_interval=10, warm_start=False, weights_init=None)"
      ]
     },
     "execution_count": 102,
     "metadata": {},
     "output_type": "execute_result"
    }
   ],
   "source": [
    "gm = GaussianMixture(n_components=n_centroids, random_state=n_seed, n_init=n_init)\n",
    "gm.fit(df)"
   ]
  },
  {
   "cell_type": "code",
   "execution_count": 103,
   "metadata": {
    "collapsed": false
   },
   "outputs": [],
   "source": [
    "gm_labels = gm.predict(df)"
   ]
  },
  {
   "cell_type": "code",
   "execution_count": 104,
   "metadata": {
    "collapsed": false,
    "scrolled": true
   },
   "outputs": [
    {
     "name": "stdout",
     "output_type": "stream",
     "text": [
      "[[ 9392 13262]\n",
      " [  429  7079]]\n",
      "             precision    recall  f1-score   support\n",
      "\n",
      "          0       0.96      0.41      0.58     22654\n",
      "          1       0.35      0.94      0.51      7508\n",
      "\n",
      "avg / total       0.80      0.55      0.56     30162\n",
      "\n"
     ]
    }
   ],
   "source": [
    "print(confusion_matrix(labels, gm_labels))\n",
    "print(classification_report(labels, gm_labels))"
   ]
  },
  {
   "cell_type": "code",
   "execution_count": null,
   "metadata": {
    "collapsed": true
   },
   "outputs": [],
   "source": []
  },
  {
   "cell_type": "markdown",
   "metadata": {
    "collapsed": false
   },
   "source": [
    "### Apply PCA to Normalized Data "
   ]
  },
  {
   "cell_type": "code",
   "execution_count": 9,
   "metadata": {
    "collapsed": true
   },
   "outputs": [],
   "source": [
    "from sklearn.decomposition import PCA"
   ]
  },
  {
   "cell_type": "code",
   "execution_count": 10,
   "metadata": {
    "collapsed": false
   },
   "outputs": [],
   "source": [
    "#fig = plt.figure(figsize=(7,5))\n",
    "#ax = fig.add_subplot(111, projection='3d')\n",
    "#ax.scatter(pca3[:,0], pca3[:,1],pca3[:,2],c=df['income'],cmap='plasma')"
   ]
  },
  {
   "cell_type": "code",
   "execution_count": 11,
   "metadata": {
    "collapsed": false
   },
   "outputs": [],
   "source": [
    "n_features = len(df.columns)"
   ]
  },
  {
   "cell_type": "markdown",
   "metadata": {},
   "source": [
    "## Try it on whole data"
   ]
  },
  {
   "cell_type": "code",
   "execution_count": 12,
   "metadata": {
    "collapsed": true
   },
   "outputs": [],
   "source": [
    "pca_all = PCA(n_components=0.99,  svd_solver = 'full')\n",
    "pca_all.fit(df)\n",
    "pca_n = pca_all.transform(df)\n",
    "#pca_all.n_components_\n"
   ]
  },
  {
   "cell_type": "code",
   "execution_count": 13,
   "metadata": {
    "collapsed": false
   },
   "outputs": [
    {
     "data": {
      "text/plain": [
       "[<matplotlib.lines.Line2D at 0x7f158c767eb8>]"
      ]
     },
     "execution_count": 13,
     "metadata": {},
     "output_type": "execute_result"
    },
    {
     "data": {
      "image/png": "[encoded data removed]",
      "text/plain": [
       "<matplotlib.figure.Figure at 0x7f158c8050b8>"
      ]
     },
     "metadata": {},
     "output_type": "display_data"
    }
   ],
   "source": [
    "y = pca_all.explained_variance_ratio_\n",
    "x = np.arange(len(y)) + 1\n",
    "\n",
    "# plot pca\n",
    "sns.set_style(\"whitegrid\")\n",
    "fig = plt.figure(figsize=(11,4))\n",
    "sub1 = plt.subplot(121, title = 'a')\n",
    "plt.xlabel('Number of principal components', fontsize = 14)\n",
    "plt.ylabel('Percentage of variance explained', fontsize = 14)\n",
    "plt.plot(x ,y, '--',lw=2., color='blue')\n",
    "\n",
    "sub2 = plt.subplot(122, title = 'b')\n",
    "plt.xlabel('Number of principal components', fontsize = 14)\n",
    "plt.ylabel('Cumulative sum of variance explained', fontsize = 14)\n",
    "plt.plot(x ,np.cumsum(y), '--',lw=2.0, color='red')"
   ]
  },
  {
   "cell_type": "markdown",
   "metadata": {},
   "source": [
    "### Apply k-means to PCA output"
   ]
  },
  {
   "cell_type": "code",
   "execution_count": 14,
   "metadata": {
    "collapsed": false
   },
   "outputs": [
    {
     "name": "stdout",
     "output_type": "stream",
     "text": [
      "[[13894  8760]\n",
      " [ 1078  6430]]\n",
      "             precision    recall  f1-score   support\n",
      "\n",
      "          0       0.93      0.61      0.74     22654\n",
      "          1       0.42      0.86      0.57      7508\n",
      "\n",
      "avg / total       0.80      0.67      0.70     30162\n",
      "\n"
     ]
    }
   ],
   "source": [
    "kmeans.fit(pca_n)\n",
    "print(confusion_matrix(labels,kmeans.labels_))\n",
    "print(classification_report(labels,kmeans.labels_))"
   ]
  },
  {
   "cell_type": "markdown",
   "metadata": {},
   "source": [
    "### Apply EM to PCA output"
   ]
  },
  {
   "cell_type": "code",
   "execution_count": 105,
   "metadata": {
    "collapsed": false
   },
   "outputs": [
    {
     "name": "stdout",
     "output_type": "stream",
     "text": [
      "[[ 9363 13291]\n",
      " [  446  7062]]\n",
      "             precision    recall  f1-score   support\n",
      "\n",
      "          0       0.95      0.41      0.58     22654\n",
      "          1       0.35      0.94      0.51      7508\n",
      "\n",
      "avg / total       0.80      0.54      0.56     30162\n",
      "\n"
     ]
    }
   ],
   "source": [
    "gm.fit(pca_n)\n",
    "gm_labels = gm.predict(pca_n)\n",
    "print(confusion_matrix(labels, gm_labels))\n",
    "print(classification_report(labels, gm_labels))"
   ]
  },
  {
   "cell_type": "code",
   "execution_count": null,
   "metadata": {
    "collapsed": false
   },
   "outputs": [],
   "source": []
  },
  {
   "cell_type": "code",
   "execution_count": null,
   "metadata": {
    "collapsed": true
   },
   "outputs": [],
   "source": []
  }
 ],
 "metadata": {
  "anaconda-cloud": {},
  "kernelspec": {
   "display_name": "Python [default]",
   "language": "python",
   "name": "python3"
  },
  "language_info": {
   "codemirror_mode": {
    "name": "ipython",
    "version": 3
   },
   "file_extension": ".py",
   "mimetype": "text/x-python",
   "name": "python",
   "nbconvert_exporter": "python",
   "pygments_lexer": "ipython3",
   "version": "3.5.2"
  }
 },
 "nbformat": 4,
 "nbformat_minor": 0
}
