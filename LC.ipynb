{
 "cells": [
  {
   "cell_type": "markdown",
   "metadata": {},
   "source": [
    "## Adult Data"
   ]
  },
  {
   "cell_type": "code",
   "execution_count": 1,
   "metadata": {
    "collapsed": true
   },
   "outputs": [],
   "source": [
    "import pandas as pd\n",
    "import numpy as np\n",
    "import matplotlib.pyplot as plt\n",
    "import seaborn as sns\n",
    "from sklearn.cluster import KMeans\n",
    "from sklearn.metrics import confusion_matrix,classification_report\n",
    "from mpl_toolkits.mplot3d import Axes3D # 3d scatter plot\n",
    "import time\n",
    "%matplotlib inline"
   ]
  },
  {
   "cell_type": "code",
   "execution_count": 2,
   "metadata": {
    "collapsed": true
   },
   "outputs": [],
   "source": [
    "# parameters\n",
    "n_centroids = 2\n",
    "n_init = 40\n",
    "n_seed = 111"
   ]
  },
  {
   "cell_type": "code",
   "execution_count": 3,
   "metadata": {
    "collapsed": false
   },
   "outputs": [],
   "source": [
    "# load training set\n",
    "train = pd.read_csv('./clean_data/adult_train.txt',index_col=False)\n",
    "train_labels = train['income'].values\n",
    "train = train.drop('income',axis=1).values\n",
    "\n",
    "# load testing set\n",
    "test = pd.read_csv('./clean_data/adult_test.txt',index_col=False)\n",
    "test_labels = test['income'].values\n",
    "test = test.drop('income',axis=1).values"
   ]
  },
  {
   "cell_type": "code",
   "execution_count": 4,
   "metadata": {
    "collapsed": false
   },
   "outputs": [],
   "source": [
    "# normalize everything such that categoricals are not affected\n",
    "a = train\n",
    "#train = (a - a.min()) / (a.max() - a.min())\n",
    "train = (a - a.mean()) / np.std(a)\n",
    "\n",
    "b = test\n",
    "#test = (b - b.min()) / (b.max() - b.min())\n",
    "test = (b - b.mean()) / np.std(b)"
   ]
  },
  {
   "cell_type": "markdown",
   "metadata": {},
   "source": [
    "### Apply K Means"
   ]
  },
  {
   "cell_type": "code",
   "execution_count": 5,
   "metadata": {
    "collapsed": false
   },
   "outputs": [
    {
     "data": {
      "text/plain": [
       "KMeans(algorithm='auto', copy_x=True, init='k-means++', max_iter=300,\n",
       "    n_clusters=2, n_init=40, n_jobs=4, precompute_distances='auto',\n",
       "    random_state=None, tol=0.0001, verbose=0)"
      ]
     },
     "execution_count": 5,
     "metadata": {},
     "output_type": "execute_result"
    }
   ],
   "source": [
    "kmeans = KMeans(n_clusters=n_centroids, n_init=n_init, n_jobs=4)\n",
    "kmeans.fit(train)"
   ]
  },
  {
   "cell_type": "code",
   "execution_count": 6,
   "metadata": {
    "collapsed": false
   },
   "outputs": [
    {
     "name": "stdout",
     "output_type": "stream",
     "text": [
      "[[ 8697 13957]\n",
      " [ 5165  2343]]\n",
      "             precision    recall  f1-score   support\n",
      "\n",
      "          0       0.63      0.38      0.48     22654\n",
      "          1       0.14      0.31      0.20      7508\n",
      "\n",
      "avg / total       0.51      0.37      0.41     30162\n",
      "\n"
     ]
    }
   ],
   "source": [
    "print(confusion_matrix(train_labels,kmeans.labels_))\n",
    "print(classification_report(train_labels,kmeans.labels_))"
   ]
  },
  {
   "cell_type": "markdown",
   "metadata": {},
   "source": [
    "### Predicting on test set"
   ]
  },
  {
   "cell_type": "code",
   "execution_count": 7,
   "metadata": {
    "collapsed": false
   },
   "outputs": [],
   "source": [
    "b = kmeans.predict(test)"
   ]
  },
  {
   "cell_type": "code",
   "execution_count": 8,
   "metadata": {
    "collapsed": false
   },
   "outputs": [
    {
     "name": "stdout",
     "output_type": "stream",
     "text": [
      "[[4431 6929]\n",
      " [2531 1169]]\n",
      "             precision    recall  f1-score   support\n",
      "\n",
      "          0       0.64      0.39      0.48     11360\n",
      "          1       0.14      0.32      0.20      3700\n",
      "\n",
      "avg / total       0.52      0.37      0.41     15060\n",
      "\n"
     ]
    }
   ],
   "source": [
    "print(confusion_matrix(test_labels, b))\n",
    "print(classification_report(test_labels, b))"
   ]
  },
  {
   "cell_type": "markdown",
   "metadata": {},
   "source": [
    "## Choosing number of clusters via Silhoutte + Model Complexity"
   ]
  },
  {
   "cell_type": "code",
   "execution_count": 9,
   "metadata": {
    "collapsed": false
   },
   "outputs": [],
   "source": [
    "from sklearn.metrics import silhouette_samples, silhouette_score\n",
    "n_seed = 111\n",
    "nclusters = 50\n",
    "nfeatures = 65\n",
    "data_frac = 5000"
   ]
  },
  {
   "cell_type": "code",
   "execution_count": 10,
   "metadata": {
    "collapsed": false
   },
   "outputs": [],
   "source": [
    "X = train #.values # converting df to np.array\n",
    "X = X[0:data_frac]\n",
    "y = train_labels"
   ]
  },
  {
   "cell_type": "code",
   "execution_count": 11,
   "metadata": {
    "collapsed": false
   },
   "outputs": [],
   "source": [
    "sil = []\n",
    "time_clust = []\n",
    "for iclusters in range(2,nclusters):\n",
    "    start = time.time()\n",
    "    clusterer = KMeans(n_clusters=iclusters,random_state=n_seed)\n",
    "    cluster_labels = clusterer.fit_predict(X)\n",
    "    end = time.time()\n",
    "    sil.append(silhouette_score(X, cluster_labels))\n",
    "    time_clust.append(end - start) \n",
    "    "
   ]
  },
  {
   "cell_type": "code",
   "execution_count": 12,
   "metadata": {
    "collapsed": false
   },
   "outputs": [],
   "source": [
    "time_iter = []\n",
    "time_sample = []\n",
    "niter = nclusters # just for plotting them togather\n",
    "for iiter in range(2,niter):\n",
    "    # iterations\n",
    "    start = time.time()\n",
    "    clusterer = KMeans(n_clusters= 4, random_state=n_seed, n_init = iiter, max_iter = 100)\n",
    "    cluster_labels = clusterer.fit_predict(X)\n",
    "    end = time.time()\n",
    "    time_iter.append(end - start)    \n",
    "    #samples\n",
    "    start = time.time()\n",
    "    isample = int(data_frac * iiter/100)\n",
    "    cluster_labels = clusterer.fit_predict(X[0:isample])\n",
    "    end = time.time()\n",
    "    time_sample.append(end - start)      \n",
    "       "
   ]
  },
  {
   "cell_type": "code",
   "execution_count": 13,
   "metadata": {
    "collapsed": false
   },
   "outputs": [],
   "source": [
    "y = np.asarray(sil)\n",
    "x = range(2,nclusters)\n",
    "sil_max = x[y.argmax()]"
   ]
  },
  {
   "cell_type": "code",
   "execution_count": 14,
   "metadata": {
    "collapsed": false
   },
   "outputs": [
    {
     "data": {
      "text/plain": [
       "<matplotlib.text.Text at 0x7f20d663c240>"
      ]
     },
     "execution_count": 14,
     "metadata": {},
     "output_type": "execute_result"
    },
    {
     "data": {
      "image/png": "[encoded data removed]",
      "text/plain": [
       "<matplotlib.figure.Figure at 0x7f20d8f3e9b0>"
      ]
     },
     "metadata": {},
     "output_type": "display_data"
    }
   ],
   "source": [
    "sns.set_style(\"whitegrid\")\n",
    "fig = plt.figure(figsize=(11,4))\n",
    "p1 = plt.subplot(121, title = 'Adult Data Silhoutte')\n",
    "plt.plot(x, y)\n",
    "plt.ylabel('Silhouette score(width)')\n",
    "plt.xlabel('Number of clusters')\n",
    "plt.axvline(x=sil_max,color='magenta', linestyle='--', linewidth=0.5)\n",
    "\n",
    "p2 = plt.subplot(122, title = 'Adult Data K-means O(knT)')\n",
    "plt.plot(time_clust,x)\n",
    "plt.plot(time_iter,x)\n",
    "plt.plot(time_sample,x)\n",
    "plt.legend([\"N-clusters\",\"N-iterations\",\"Data Size %\"],loc=4)\n",
    "plt.xlabel('CPU time in sec ')\n",
    "plt.ylabel('y')"
   ]
  },
  {
   "cell_type": "markdown",
   "metadata": {
    "collapsed": false
   },
   "source": [
    "**The average complexity is given by O(k n T), were n is the number of samples and T is the number of iteration.**"
   ]
  },
  {
   "cell_type": "markdown",
   "metadata": {},
   "source": [
    "### Apply EM"
   ]
  },
  {
   "cell_type": "code",
   "execution_count": 15,
   "metadata": {
    "collapsed": true
   },
   "outputs": [],
   "source": [
    "from sklearn.mixture import GaussianMixture\n",
    "n_init = 2\n",
    "n_seed = 111"
   ]
  },
  {
   "cell_type": "code",
   "execution_count": 16,
   "metadata": {
    "collapsed": false
   },
   "outputs": [
    {
     "data": {
      "text/plain": [
       "GaussianMixture(covariance_type='full', init_params='kmeans', max_iter=100,\n",
       "        means_init=None, n_components=2, n_init=2, precisions_init=None,\n",
       "        random_state=111, reg_covar=1e-06, tol=0.001, verbose=0,\n",
       "        verbose_interval=10, warm_start=False, weights_init=None)"
      ]
     },
     "execution_count": 16,
     "metadata": {},
     "output_type": "execute_result"
    }
   ],
   "source": [
    "gm = GaussianMixture(n_components=n_centroids, random_state=n_seed, n_init=n_init, max_iter=100)\n",
    "gm.fit(train)"
   ]
  },
  {
   "cell_type": "code",
   "execution_count": 17,
   "metadata": {
    "collapsed": false
   },
   "outputs": [],
   "source": [
    "gm_labels = gm.predict(train)"
   ]
  },
  {
   "cell_type": "code",
   "execution_count": 18,
   "metadata": {
    "collapsed": false,
    "scrolled": true
   },
   "outputs": [
    {
     "name": "stdout",
     "output_type": "stream",
     "text": [
      "[[17944  4710]\n",
      " [ 4152  3356]]\n",
      "             precision    recall  f1-score   support\n",
      "\n",
      "          0       0.81      0.79      0.80     22654\n",
      "          1       0.42      0.45      0.43      7508\n",
      "\n",
      "avg / total       0.71      0.71      0.71     30162\n",
      "\n"
     ]
    }
   ],
   "source": [
    "print(confusion_matrix(train_labels, gm_labels))\n",
    "print(classification_report(train_labels, gm_labels))"
   ]
  },
  {
   "cell_type": "code",
   "execution_count": null,
   "metadata": {
    "collapsed": false
   },
   "outputs": [
    {
     "name": "stdout",
     "output_type": "stream",
     "text": [
      "[[8913 2447]\n",
      " [2031 1669]]\n",
      "             precision    recall  f1-score   support\n",
      "\n",
      "          0       0.81      0.78      0.80     11360\n",
      "          1       0.41      0.45      0.43      3700\n",
      "\n",
      "avg / total       0.71      0.70      0.71     15060\n",
      "\n"
     ]
    }
   ],
   "source": [
    "test_gm = gm.predict(test)\n",
    "print(confusion_matrix(test_labels, test_gm))\n",
    "print(classification_report(test_labels, test_gm))"
   ]
  },
  {
   "cell_type": "markdown",
   "metadata": {
    "collapsed": true
   },
   "source": [
    "## EM model Complexity + Choosing n-components"
   ]
  },
  {
   "cell_type": "code",
   "execution_count": null,
   "metadata": {
    "collapsed": true
   },
   "outputs": [],
   "source": [
    "BIC = []\n",
    "AIC = []\n",
    "time_components = []\n",
    "ncomponents = 40\n",
    "for icomponents in range(1,ncomponents):\n",
    "    start = time.time()\n",
    "    clusterer = GaussianMixture(icomponents, n_init = 10, covariance_type='full').fit(X) \n",
    "    end = time.time()\n",
    "    BIC.append(clusterer.bic(X))\n",
    "    AIC.append(clusterer.aic(X))\n",
    "    time_components.append(end - start) "
   ]
  },
  {
   "cell_type": "code",
   "execution_count": null,
   "metadata": {
    "collapsed": false
   },
   "outputs": [],
   "source": [
    "time_iter = []\n",
    "time_sample = []\n",
    "niter = ncomponents  \n",
    "for iiter in range(1,niter):\n",
    "    # iterations\n",
    "    start = time.time()\n",
    "    clusterer = GaussianMixture(n_components = 2, n_init=iiter, covariance_type='full',random_state=0).fit(X) \n",
    "    end = time.time()\n",
    "    time_iter.append(end - start)    \n",
    "    #samples\n",
    "    start = time.time()\n",
    "    isample = int(data_frac * iiter/100)\n",
    "    clusterer = GaussianMixture(n_components = 2, n_init = 4, covariance_type='full', random_state=0).fit(X[0:isample]) \n",
    "    end = time.time()\n",
    "    time_sample.append(end - start)      "
   ]
  },
  {
   "cell_type": "code",
   "execution_count": null,
   "metadata": {
    "collapsed": false
   },
   "outputs": [],
   "source": [
    "x = np.arange(1, ncomponents)\n",
    "sns.set_style(\"whitegrid\")\n",
    "fig = plt.figure(figsize=(11,4))\n",
    "\n",
    "p1 = plt.subplot(121, title = 'AD EM Gaussian Mixture choosing n_components')\n",
    "plt.plot(x, BIC, label='BIC')\n",
    "plt.plot(x, AIC, label='AIC')\n",
    "plt.axvline(x=11,color='magenta', linewidth=0.5)\n",
    "plt.legend(loc='best')\n",
    "plt.xlabel('n_components')\n",
    "plt.ylabel('y')\n",
    "\n",
    "p2 = plt.subplot(122, title = 'EM Gaussian Mixture Model Complexity')\n",
    "plt.plot(time_components,x, linestyle='--')\n",
    "plt.plot(time_iter,x)\n",
    "plt.plot(time_sample,x)\n",
    "plt.legend([\"N-components\",\"N-iterations\",\"Data Size %\"],loc=4)\n",
    "plt.xlabel('CPU time in sec ')\n",
    "plt.ylabel('y')"
   ]
  },
  {
   "cell_type": "code",
   "execution_count": null,
   "metadata": {
    "collapsed": true
   },
   "outputs": [],
   "source": []
  },
  {
   "cell_type": "markdown",
   "metadata": {},
   "source": [
    "# Note!\n",
    "**Since training was not provided any information about target feature, it makes sence to see very close accuracy\n",
    "on both training and testing sets.**"
   ]
  },
  {
   "cell_type": "markdown",
   "metadata": {
    "collapsed": false
   },
   "source": [
    "### Apply PCA to Normalized Data "
   ]
  },
  {
   "cell_type": "code",
   "execution_count": null,
   "metadata": {
    "collapsed": true
   },
   "outputs": [],
   "source": [
    "from sklearn.decomposition import PCA, FastICA"
   ]
  },
  {
   "cell_type": "code",
   "execution_count": null,
   "metadata": {
    "collapsed": false
   },
   "outputs": [],
   "source": [
    "train = pd.DataFrame(train)\n",
    "n_features = len(train.columns)"
   ]
  },
  {
   "cell_type": "markdown",
   "metadata": {},
   "source": [
    "## Try it on whole data"
   ]
  },
  {
   "cell_type": "code",
   "execution_count": null,
   "metadata": {
    "collapsed": false
   },
   "outputs": [],
   "source": [
    "# when n_comp is given as fraction and svd solver is full, then algorithm chooses # pc components\n",
    "# such that model explains \"n_components= of varience\n",
    "pca_all = PCA(n_components=0.99,  svd_solver = 'full')\n",
    "pca_all.fit(train)\n",
    "pca_n = pca_all.transform(train)"
   ]
  },
  {
   "cell_type": "code",
   "execution_count": null,
   "metadata": {
    "collapsed": false
   },
   "outputs": [],
   "source": [
    "sns.set_style(\"whitegrid\")\n",
    "fig = plt.figure(figsize=(12,4))\n",
    "ax1 = fig.add_subplot(121, projection='3d')\n",
    "ax1.scatter(pca_n[:,0], pca_n[:,1],pca_n[:,2],c=train_labels,cmap='plasma')\n",
    "ax1.set_xlabel('PC0')\n",
    "ax1.set_ylabel('PC1')\n",
    "ax1.set_zlabel('PC2')\n",
    "\n",
    "ax2 = fig.add_subplot(122)\n",
    "#ax2.scatter(pca_n[:,0], pca_n[:,1],c=train_labels,cmap='plasma')\n",
    "#plt.xlabel('PC0', fontsize = 10)\n",
    "#plt.ylabel('PC1', fontsize = 10)\n",
    "aig_vals = pca_all.explained_variance_ratio_[0:10]\n",
    "y_pos = np.arange(len(aig_vals))\n",
    "plt.bar(y_pos, aig_vals, align='center', alpha=0.6)\n",
    "plt.ylabel('Fraction of explained variance')\n",
    "plt.xlabel('Principal Components') \n"
   ]
  },
  {
   "cell_type": "code",
   "execution_count": null,
   "metadata": {
    "collapsed": false
   },
   "outputs": [],
   "source": [
    "y = pca_all.explained_variance_ratio_\n",
    "x = np.arange(len(y))\n",
    "\n",
    "# plot pca\n",
    "fig = plt.figure(figsize=(11,4))\n",
    "sub1 = plt.subplot(121, title = 'a')\n",
    "plt.xlabel('Number of principal components', fontsize = 14)\n",
    "plt.ylabel('Percentage of variance explained', fontsize = 14)\n",
    "plt.plot(x ,y, '-o',lw=2., color='blue')\n",
    "\n",
    "sub2 = plt.subplot(122, title = 'b')\n",
    "plt.xlabel('Number of principal components', fontsize = 14)\n",
    "plt.ylabel('Cumulative sum of variance explained', fontsize = 14)\n",
    "plt.plot(x ,np.cumsum(y), '-o',lw=2.0, color='red')"
   ]
  },
  {
   "cell_type": "markdown",
   "metadata": {},
   "source": [
    "### Apply k-means to PCA output"
   ]
  },
  {
   "cell_type": "code",
   "execution_count": null,
   "metadata": {
    "collapsed": false
   },
   "outputs": [],
   "source": [
    "kmeans = KMeans(n_clusters=n_centroids, random_state = n_seed)\n",
    "kmeans.fit(pca_n)\n",
    "print(confusion_matrix(train_labels,kmeans.labels_))\n",
    "print(classification_report(train_labels,kmeans.labels_))"
   ]
  },
  {
   "cell_type": "markdown",
   "metadata": {},
   "source": [
    "### Apply EM to PCA output"
   ]
  },
  {
   "cell_type": "code",
   "execution_count": null,
   "metadata": {
    "collapsed": false
   },
   "outputs": [],
   "source": [
    "gm = GaussianMixture(n_components=n_centroids, random_state=n_seed, n_init=n_init, max_iter=100)\n",
    "gm.fit(pca_n)\n",
    "gm_labels = gm.predict(pca_n)\n",
    "print(confusion_matrix(train_labels, gm_labels))\n",
    "print(classification_report(train_labels, gm_labels))"
   ]
  },
  {
   "cell_type": "markdown",
   "metadata": {},
   "source": [
    "##  ICA"
   ]
  },
  {
   "cell_type": "code",
   "execution_count": null,
   "metadata": {
    "collapsed": false
   },
   "outputs": [],
   "source": [
    "ica =FastICA(algorithm='deflation', tol=0.001, whiten=True, fun='logcosh', max_iter=50, random_state=n_seed)\n",
    "ica_all = ica.fit_transform(train)"
   ]
  },
  {
   "cell_type": "markdown",
   "metadata": {},
   "source": [
    "### Applying k-means to ICA output"
   ]
  },
  {
   "cell_type": "code",
   "execution_count": null,
   "metadata": {
    "collapsed": false
   },
   "outputs": [],
   "source": [
    "kmeans = KMeans(n_clusters=n_centroids, random_state = n_seed)\n",
    "kmeans.fit(ica_all)\n",
    "print(confusion_matrix(train_labels,kmeans.labels_))\n",
    "print(classification_report(train_labels,kmeans.labels_))"
   ]
  },
  {
   "cell_type": "markdown",
   "metadata": {},
   "source": [
    "### Applying EM to ICA output"
   ]
  },
  {
   "cell_type": "code",
   "execution_count": null,
   "metadata": {
    "collapsed": false
   },
   "outputs": [],
   "source": [
    "gm = GaussianMixture(n_components=n_centroids, random_state=n_seed, n_init=n_init, max_iter=100)\n",
    "gm.fit(ica_all)\n",
    "gm_labels = gm.predict(ica_all)\n",
    "print(confusion_matrix(train_labels, gm_labels))\n",
    "print(classification_report(train_labels, gm_labels))"
   ]
  },
  {
   "cell_type": "code",
   "execution_count": null,
   "metadata": {
    "collapsed": false
   },
   "outputs": [],
   "source": [
    "from scipy.stats import kurtosis\n",
    "y = kurtosis(ica_all, fisher=True)\n",
    "x = np.arange(len(y)) "
   ]
  },
  {
   "cell_type": "code",
   "execution_count": null,
   "metadata": {
    "collapsed": false
   },
   "outputs": [],
   "source": [
    "kurt_max = x[y.argmax()]\n",
    "kurtosis_thresh = y.max()/3"
   ]
  },
  {
   "cell_type": "markdown",
   "metadata": {
    "collapsed": true
   },
   "source": [
    "### Visualize ICA components with highest Kurtosis"
   ]
  },
  {
   "cell_type": "code",
   "execution_count": null,
   "metadata": {
    "collapsed": false
   },
   "outputs": [],
   "source": [
    "tmp = [y > kurtosis_thresh]\n",
    "indx = np.where(tmp)[1]"
   ]
  },
  {
   "cell_type": "code",
   "execution_count": null,
   "metadata": {
    "collapsed": false
   },
   "outputs": [],
   "source": [
    "ica_all = pd.DataFrame(ica_all)\n",
    "ica_keep = ica_all[indx]"
   ]
  },
  {
   "cell_type": "code",
   "execution_count": null,
   "metadata": {
    "collapsed": false
   },
   "outputs": [],
   "source": [
    "indx"
   ]
  },
  {
   "cell_type": "code",
   "execution_count": null,
   "metadata": {
    "collapsed": false
   },
   "outputs": [],
   "source": [
    "fig = plt.figure(figsize=(13,4))\n",
    "ax1 = fig.add_subplot(121, projection='3d')\n",
    "ax1.scatter(ica_keep[indx[0]], ica_keep[indx[1]],ica_keep[indx[2]],c=train_labels,cmap='plasma')\n",
    "ax1.set_xlabel('IC0')\n",
    "ax1.set_ylabel('IC1')\n",
    "ax1.set_zlabel('IC2')\n",
    "\n",
    "ax2 = fig.add_subplot(122)\n",
    "#ax2.scatter(ica_keep[indx[0]], ica_keep[indx[1]],c=train_labels,cmap='plasma')\n",
    "#plt.xlabel('IC0', fontsize = 10)\n",
    "#plt.ylabel('IC1', fontsize = 10)\n",
    "# plot ica\n",
    "plt.xlabel('Independent components', fontsize = 14)\n",
    "plt.ylabel('Kurtosis', fontsize = 14)\n",
    "plt.plot(x ,y, '-',lw=2., color='blue')\n",
    "plt.axvline(x=kurt_max,color='magenta', linestyle='--', linewidth=0.5)\n",
    "plt.axhline(y=kurtosis_thresh,color='magenta', linestyle='--', linewidth=0.5)"
   ]
  },
  {
   "cell_type": "markdown",
   "metadata": {},
   "source": [
    "### Apply k-means to reduced dim by ICA"
   ]
  },
  {
   "cell_type": "code",
   "execution_count": null,
   "metadata": {
    "collapsed": true
   },
   "outputs": [],
   "source": [
    "kmeans = KMeans(n_clusters=n_centroids, random_state = n_seed)\n",
    "kmeans.fit(ica_keep)\n",
    "print(confusion_matrix(train_labels,kmeans.labels_))\n",
    "print(classification_report(train_labels,kmeans.labels_))"
   ]
  },
  {
   "cell_type": "markdown",
   "metadata": {},
   "source": [
    "### Apply EM to reduced dim by ICA"
   ]
  },
  {
   "cell_type": "code",
   "execution_count": null,
   "metadata": {
    "collapsed": false
   },
   "outputs": [],
   "source": [
    "gm = GaussianMixture(n_components=n_centroids, random_state=n_seed, n_init=n_init, max_iter=100)\n",
    "gm.fit(ica_keep)\n",
    "gm_labels = gm.predict(ica_keep)\n",
    "print(confusion_matrix(train_labels, gm_labels))\n",
    "print(classification_report(train_labels, gm_labels))"
   ]
  },
  {
   "cell_type": "markdown",
   "metadata": {
    "collapsed": true
   },
   "source": [
    "## Random Projections"
   ]
  },
  {
   "cell_type": "code",
   "execution_count": null,
   "metadata": {
    "collapsed": false
   },
   "outputs": [],
   "source": [
    "from sklearn import random_projection\n",
    "transformer = random_projection.GaussianRandomProjection(eps=0.5,random_state=n_seed,n_components=30)\n",
    "RP = transformer.fit_transform(train)"
   ]
  },
  {
   "cell_type": "code",
   "execution_count": null,
   "metadata": {
    "collapsed": false
   },
   "outputs": [],
   "source": [
    "sns.set_style(\"whitegrid\")\n",
    "fig = plt.figure(figsize=(6,4))\n",
    "ax1=fig.add_subplot(111, projection='3d')\n",
    "ax1.scatter(RP[:,0], RP[:,1],RP[:,2],c=train_labels,cmap='plasma')\n",
    "ax1.set_xlabel('RP0')\n",
    "ax1.set_ylabel('RP1')\n",
    "ax1.set_zlabel('RP2')"
   ]
  },
  {
   "cell_type": "code",
   "execution_count": null,
   "metadata": {
    "collapsed": false
   },
   "outputs": [],
   "source": []
  }
 ],
 "metadata": {
  "anaconda-cloud": {},
  "kernelspec": {
   "display_name": "Python [default]",
   "language": "python",
   "name": "python3"
  },
  "language_info": {
   "codemirror_mode": {
    "name": "ipython",
    "version": 3
   },
   "file_extension": ".py",
   "mimetype": "text/x-python",
   "name": "python",
   "nbconvert_exporter": "python",
   "pygments_lexer": "ipython3",
   "version": "3.5.2"
  }
 },
 "nbformat": 4,
 "nbformat_minor": 0
}
