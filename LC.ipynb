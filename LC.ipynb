{
 "cells": [
  {
   "cell_type": "markdown",
   "metadata": {},
   "source": [
    "## Loan Data"
   ]
  },
  {
   "cell_type": "code",
   "execution_count": 1,
   "metadata": {
    "collapsed": true
   },
   "outputs": [],
   "source": [
    "import pandas as pd\n",
    "import numpy as np\n",
    "import matplotlib.pyplot as plt\n",
    "import seaborn as sns\n",
    "from sklearn.cluster import KMeans\n",
    "from sklearn.metrics import confusion_matrix,classification_report\n",
    "from mpl_toolkits.mplot3d import Axes3D # 3d scatter plot\n",
    "import time\n",
    "%matplotlib inline"
   ]
  },
  {
   "cell_type": "code",
   "execution_count": 2,
   "metadata": {
    "collapsed": true
   },
   "outputs": [],
   "source": [
    "# parameters\n",
    "n_centroids = 2\n",
    "n_init = 40\n",
    "n_seed = 199"
   ]
  },
  {
   "cell_type": "code",
   "execution_count": 3,
   "metadata": {
    "collapsed": false
   },
   "outputs": [],
   "source": [
    "# load training set\n",
    "train = pd.read_csv('./clean_data/loan_train.txt',index_col=False)\n",
    "train_labels = train['loan_status'].values\n",
    "train = train.drop('loan_status',axis=1).values\n",
    "\n",
    "# load testing set\n",
    "test = pd.read_csv('./clean_data/loan_test.txt',index_col=False)\n",
    "test_labels = test['loan_status'].values\n",
    "test = test.drop('loan_status',axis=1).values"
   ]
  },
  {
   "cell_type": "code",
   "execution_count": 4,
   "metadata": {
    "collapsed": false
   },
   "outputs": [],
   "source": [
    "# normalize everything such that categoricals are not affected\n",
    "a = train\n",
    "train = (a - a.mean()) / np.std(a)\n",
    "\n",
    "b = test\n",
    "test = (b - b.mean()) / np.std(b)"
   ]
  },
  {
   "cell_type": "markdown",
   "metadata": {},
   "source": [
    "### Apply K Means"
   ]
  },
  {
   "cell_type": "code",
   "execution_count": 5,
   "metadata": {
    "collapsed": false
   },
   "outputs": [
    {
     "data": {
      "text/plain": [
       "KMeans(algorithm='auto', copy_x=True, init='k-means++', max_iter=300,\n",
       "    n_clusters=2, n_init=1, n_jobs=4, precompute_distances='auto',\n",
       "    random_state=199, tol=0.0001, verbose=0)"
      ]
     },
     "execution_count": 5,
     "metadata": {},
     "output_type": "execute_result"
    }
   ],
   "source": [
    "kmeans = KMeans(n_clusters=n_centroids, n_init=1, random_state=n_seed, n_jobs=4)\n",
    "kmeans.fit(train)"
   ]
  },
  {
   "cell_type": "code",
   "execution_count": 6,
   "metadata": {
    "collapsed": false
   },
   "outputs": [
    {
     "name": "stdout",
     "output_type": "stream",
     "text": [
      "[[15699  1835]\n",
      " [40872  5803]]\n",
      "             precision    recall  f1-score   support\n",
      "\n",
      "          0       0.28      0.90      0.42     17534\n",
      "          1       0.76      0.12      0.21     46675\n",
      "\n",
      "avg / total       0.63      0.33      0.27     64209\n",
      "\n"
     ]
    }
   ],
   "source": [
    "print(confusion_matrix(train_labels,kmeans.labels_))\n",
    "print(classification_report(train_labels,kmeans.labels_))"
   ]
  },
  {
   "cell_type": "markdown",
   "metadata": {},
   "source": [
    "### Predicting on test set"
   ]
  },
  {
   "cell_type": "code",
   "execution_count": 7,
   "metadata": {
    "collapsed": false
   },
   "outputs": [],
   "source": [
    "b = kmeans.predict(test)"
   ]
  },
  {
   "cell_type": "code",
   "execution_count": 8,
   "metadata": {
    "collapsed": false
   },
   "outputs": [
    {
     "name": "stdout",
     "output_type": "stream",
     "text": [
      "[[ 6881   964]\n",
      " [17650  3042]]\n",
      "             precision    recall  f1-score   support\n",
      "\n",
      "          0       0.28      0.88      0.43      7845\n",
      "          1       0.76      0.15      0.25     20692\n",
      "\n",
      "avg / total       0.63      0.35      0.30     28537\n",
      "\n"
     ]
    }
   ],
   "source": [
    "print(confusion_matrix(test_labels, b))\n",
    "print(classification_report(test_labels, b))"
   ]
  },
  {
   "cell_type": "markdown",
   "metadata": {},
   "source": [
    "## Choosing number of clusters via Silhoutte + Model Complexity"
   ]
  },
  {
   "cell_type": "code",
   "execution_count": 9,
   "metadata": {
    "collapsed": false
   },
   "outputs": [],
   "source": [
    "from sklearn.metrics import silhouette_samples, silhouette_score\n",
    "nclusters = 50\n",
    "nfeatures = 65\n",
    "data_frac = 5000"
   ]
  },
  {
   "cell_type": "code",
   "execution_count": null,
   "metadata": {
    "collapsed": false
   },
   "outputs": [],
   "source": [
    "X = train #.values # converting df to np.array\n",
    "X = X[0:data_frac]\n",
    "y = train_labels"
   ]
  },
  {
   "cell_type": "code",
   "execution_count": null,
   "metadata": {
    "collapsed": false
   },
   "outputs": [],
   "source": [
    "sil = []\n",
    "time_clust = []\n",
    "for iclusters in range(2,nclusters):\n",
    "    start = time.time()\n",
    "    clusterer = KMeans(n_clusters=iclusters,random_state=n_seed,n_init=1)\n",
    "    cluster_labels = clusterer.fit_predict(X)\n",
    "    end = time.time()\n",
    "    sil.append(silhouette_score(X, cluster_labels))\n",
    "    time_clust.append(end - start) \n",
    "    "
   ]
  },
  {
   "cell_type": "code",
   "execution_count": null,
   "metadata": {
    "collapsed": false
   },
   "outputs": [],
   "source": [
    "time_iter = []\n",
    "time_sample = []\n",
    "niter = nclusters # just for plotting them togather\n",
    "for iiter in range(2,niter):\n",
    "    # iterations\n",
    "    start = time.time()\n",
    "    clusterer = KMeans(n_clusters= 2, random_state=iiter, n_init = iiter, max_iter = 100)\n",
    "    cluster_labels = clusterer.fit_predict(X)\n",
    "    end = time.time()\n",
    "    time_iter.append(end - start)    \n",
    "    #samples\n",
    "    start = time.time()\n",
    "    isample = int(data_frac * iiter/100)\n",
    "    clusterer = KMeans(n_clusters= 2, random_state=n_seed, n_init = 1, max_iter = 100)\n",
    "    cluster_labels = clusterer.fit_predict(X[0:isample])\n",
    "    end = time.time()\n",
    "    time_sample.append(end - start)      \n",
    "       "
   ]
  },
  {
   "cell_type": "code",
   "execution_count": null,
   "metadata": {
    "collapsed": false
   },
   "outputs": [],
   "source": [
    "y = np.asarray(sil)\n",
    "x = range(2,nclusters)\n",
    "sil_max = x[y.argmax()]"
   ]
  },
  {
   "cell_type": "code",
   "execution_count": null,
   "metadata": {
    "collapsed": false
   },
   "outputs": [],
   "source": [
    "sns.set_style(\"whitegrid\")\n",
    "fig = plt.figure(figsize=(11,4))\n",
    "p1 = plt.subplot(121, title = 'Loan Data Silhoutte')\n",
    "plt.plot(x, y)\n",
    "plt.ylabel('Silhouette score(width)')\n",
    "plt.xlabel('Number of clusters')\n",
    "plt.axvline(x=sil_max,color='magenta', linestyle='--', linewidth=0.5)\n",
    "\n",
    "p2 = plt.subplot(122, title = 'Loan Data K-means O(knT)')\n",
    "plt.plot(time_clust,x)\n",
    "plt.plot(time_iter,x)\n",
    "plt.plot(time_sample,x)\n",
    "plt.legend([\"N-clusters\",\"N-iterations\",\"Data Size %\"],loc=4)\n",
    "plt.xlabel('CPU time in sec ')\n",
    "plt.ylabel('y')\n",
    "\n",
    "plt.show()\n",
    "fig.savefig('plots/LC_ModComp_Kmeans.pdf')"
   ]
  },
  {
   "cell_type": "markdown",
   "metadata": {
    "collapsed": false
   },
   "source": [
    "**The average complexity is given by O(k n T), were n is the number of samples and T is the number of iteration.**"
   ]
  },
  {
   "cell_type": "markdown",
   "metadata": {},
   "source": [
    "### Apply EM"
   ]
  },
  {
   "cell_type": "code",
   "execution_count": null,
   "metadata": {
    "collapsed": true
   },
   "outputs": [],
   "source": [
    "from sklearn.mixture import GaussianMixture"
   ]
  },
  {
   "cell_type": "code",
   "execution_count": null,
   "metadata": {
    "collapsed": false
   },
   "outputs": [],
   "source": [
    "gm = GaussianMixture(n_components=n_centroids, random_state=n_seed, n_init=1, max_iter=100)\n",
    "gm.fit(train)"
   ]
  },
  {
   "cell_type": "code",
   "execution_count": null,
   "metadata": {
    "collapsed": false
   },
   "outputs": [],
   "source": [
    "gm_labels = gm.predict(train)"
   ]
  },
  {
   "cell_type": "code",
   "execution_count": null,
   "metadata": {
    "collapsed": false,
    "scrolled": true
   },
   "outputs": [],
   "source": [
    "print(confusion_matrix(train_labels, gm_labels))\n",
    "print(classification_report(train_labels, gm_labels))"
   ]
  },
  {
   "cell_type": "code",
   "execution_count": null,
   "metadata": {
    "collapsed": false
   },
   "outputs": [],
   "source": [
    "test_gm = gm.predict(test)\n",
    "print(confusion_matrix(test_labels, test_gm))\n",
    "print(classification_report(test_labels, test_gm))"
   ]
  },
  {
   "cell_type": "markdown",
   "metadata": {
    "collapsed": true
   },
   "source": [
    "## EM model Complexity + Choosing n-components"
   ]
  },
  {
   "cell_type": "code",
   "execution_count": null,
   "metadata": {
    "collapsed": true
   },
   "outputs": [],
   "source": [
    "BIC = []\n",
    "AIC = []\n",
    "time_components = []\n",
    "ncomponents = 50\n",
    "for icomponents in range(1,ncomponents):\n",
    "    start = time.time()\n",
    "    clusterer = GaussianMixture(n_components=icomponents, n_init = 1, covariance_type='full',random_state=n_seed).fit(X) \n",
    "    end = time.time()\n",
    "    BIC.append(clusterer.bic(X))\n",
    "    AIC.append(clusterer.aic(X))\n",
    "    time_components.append(end - start) "
   ]
  },
  {
   "cell_type": "code",
   "execution_count": null,
   "metadata": {
    "collapsed": false
   },
   "outputs": [],
   "source": [
    "time_iter = []\n",
    "time_sample = []\n",
    "niter = ncomponents  \n",
    "for iiter in range(1,niter):\n",
    "    # iterations\n",
    "    start = time.time()\n",
    "    clusterer = GaussianMixture(n_components = 2, n_init=iiter, covariance_type='full',random_state=iiter).fit(X) \n",
    "    end = time.time()\n",
    "    time_iter.append(end - start)    \n",
    "    #samples\n",
    "    start = time.time()\n",
    "    isample = int(data_frac * iiter/100)\n",
    "    clusterer = GaussianMixture(n_components = 2, n_init = 1, covariance_type='full', random_state=n_seed).fit(X[0:isample]) \n",
    "    end = time.time()\n",
    "    time_sample.append(end - start)      "
   ]
  },
  {
   "cell_type": "code",
   "execution_count": null,
   "metadata": {
    "collapsed": false
   },
   "outputs": [],
   "source": [
    "x = np.arange(1, ncomponents)\n",
    "sns.set_style(\"whitegrid\")\n",
    "fig = plt.figure(figsize=(11,4))\n",
    "\n",
    "p1 = plt.subplot(121, title = 'LC EM Gaussian Mixture choosing n_components')\n",
    "plt.plot(x, BIC, label='BIC')\n",
    "plt.plot(x, AIC, label='AIC')\n",
    "plt.axvline(x=2,color='magenta', linewidth=0.5)\n",
    "plt.legend(loc='best')\n",
    "plt.xlabel('n_components')\n",
    "plt.ylabel('y')\n",
    "\n",
    "p2 = plt.subplot(122, title = 'LC EM Gaussian Mixture Model Complexity')\n",
    "plt.plot(time_components,x, linestyle='--')\n",
    "plt.plot(time_iter,x)\n",
    "plt.plot(time_sample,x)\n",
    "plt.legend([\"N-components\",\"N-iterations\",\"Data Size %\"],loc=4)\n",
    "plt.xlabel('CPU time in sec ')\n",
    "plt.ylabel('y')\n",
    "\n",
    "plt.show()\n",
    "fig.savefig('plots/LC_ModComp_EM.pdf')"
   ]
  },
  {
   "cell_type": "code",
   "execution_count": null,
   "metadata": {
    "collapsed": true
   },
   "outputs": [],
   "source": []
  },
  {
   "cell_type": "markdown",
   "metadata": {},
   "source": [
    "# Note!\n",
    "**Since training was not provided any information about target feature, it makes sence to see very close accuracy\n",
    "on both training and testing sets.**"
   ]
  },
  {
   "cell_type": "markdown",
   "metadata": {
    "collapsed": false
   },
   "source": [
    "### Apply PCA to Normalized Data "
   ]
  },
  {
   "cell_type": "code",
   "execution_count": null,
   "metadata": {
    "collapsed": true
   },
   "outputs": [],
   "source": [
    "from sklearn.decomposition import PCA, FastICA"
   ]
  },
  {
   "cell_type": "code",
   "execution_count": null,
   "metadata": {
    "collapsed": false
   },
   "outputs": [],
   "source": [
    "train = pd.DataFrame(train)\n",
    "n_features = len(train.columns)"
   ]
  },
  {
   "cell_type": "markdown",
   "metadata": {},
   "source": [
    "## Try it on whole data"
   ]
  },
  {
   "cell_type": "code",
   "execution_count": null,
   "metadata": {
    "collapsed": false
   },
   "outputs": [],
   "source": [
    "# when n_comp is given as fraction and svd solver is full, then algorithm chooses # pc components\n",
    "# such that model explains \"n_components= of varience\n",
    "pca_all = PCA(n_components=0.99,  svd_solver = 'full')\n",
    "pca_all.fit(train)\n",
    "pca_n = pca_all.transform(train)"
   ]
  },
  {
   "cell_type": "code",
   "execution_count": null,
   "metadata": {
    "collapsed": false
   },
   "outputs": [],
   "source": [
    "sns.set_style(\"whitegrid\")\n",
    "fig = plt.figure(figsize=(12,4))\n",
    "ax1 = fig.add_subplot(121, projection='3d')\n",
    "ax1.scatter(pca_n[:,2], pca_n[:,0],pca_n[:,1],c=train_labels,cmap='plasma')\n",
    "ax1.set_xlabel('PC2')\n",
    "ax1.set_ylabel('PC0')\n",
    "ax1.set_zlabel('PC1')\n",
    "plt.title('LC Best Principal Components')\n",
    "\n",
    "ax2 = fig.add_subplot(122)\n",
    "aig_vals = pca_all.explained_variance_ratio_\n",
    "y_pos = np.arange(len(aig_vals))\n",
    "cumsum = np.cumsum(aig_vals)  \n",
    "plt.bar(y_pos, aig_vals, align='edge', alpha=0.8, color='red', width=-0.3)\n",
    "plt.bar(y_pos, cumsum, align='edge', alpha=0.8, width=0.3)\n",
    "plt.legend([\"Fraction of explained variance\",\"Cumulative Sum for Explained variance fraction\"],loc='best')\n",
    "plt.ylabel('')\n",
    "plt.ylim(0, 1.2 )\n",
    "plt.xlabel('Principal Components') \n",
    "plt.title('LC Moddel Explained Var. by PCs')\n",
    "\n",
    "fig.savefig('plots/LC_pca.pdf')"
   ]
  },
  {
   "cell_type": "markdown",
   "metadata": {},
   "source": [
    "### Apply k-means to PCA output"
   ]
  },
  {
   "cell_type": "code",
   "execution_count": null,
   "metadata": {
    "collapsed": false
   },
   "outputs": [],
   "source": [
    "kmeans = KMeans(n_clusters=n_centroids,n_init=1, random_state=n_seed)\n",
    "kmeans.fit(pca_n)\n",
    "print(confusion_matrix(train_labels,kmeans.labels_))\n",
    "print(classification_report(train_labels,kmeans.labels_))"
   ]
  },
  {
   "cell_type": "markdown",
   "metadata": {},
   "source": [
    "### Apply EM to PCA output"
   ]
  },
  {
   "cell_type": "code",
   "execution_count": null,
   "metadata": {
    "collapsed": false
   },
   "outputs": [],
   "source": [
    "gm = GaussianMixture(n_components=n_centroids, random_state=n_seed, n_init=1, max_iter=100)\n",
    "gm.fit(pca_n)\n",
    "gm_labels = gm.predict(pca_n)\n",
    "print(confusion_matrix(train_labels, gm_labels))\n",
    "print(classification_report(train_labels, gm_labels))"
   ]
  },
  {
   "cell_type": "markdown",
   "metadata": {},
   "source": [
    "##  ICA"
   ]
  },
  {
   "cell_type": "code",
   "execution_count": null,
   "metadata": {
    "collapsed": false
   },
   "outputs": [],
   "source": [
    "ica =FastICA(algorithm='parallel', tol=0.001, whiten=True, fun='logcosh', max_iter=50, random_state=n_seed)\n",
    "ica_all = ica.fit_transform(train)"
   ]
  },
  {
   "cell_type": "markdown",
   "metadata": {},
   "source": [
    "### Applying k-means to ICA output"
   ]
  },
  {
   "cell_type": "code",
   "execution_count": null,
   "metadata": {
    "collapsed": false
   },
   "outputs": [],
   "source": [
    "kmeans = KMeans(n_clusters=n_centroids, random_state = n_seed)\n",
    "kmeans.fit(ica_all)\n",
    "print(confusion_matrix(train_labels,kmeans.labels_))\n",
    "print(classification_report(train_labels,kmeans.labels_))"
   ]
  },
  {
   "cell_type": "markdown",
   "metadata": {},
   "source": [
    "### Applying EM to ICA output"
   ]
  },
  {
   "cell_type": "code",
   "execution_count": null,
   "metadata": {
    "collapsed": false
   },
   "outputs": [],
   "source": [
    "gm = GaussianMixture(n_components=n_centroids, random_state=n_seed, max_iter=100)\n",
    "gm.fit(ica_all)\n",
    "gm_labels = gm.predict(ica_all)\n",
    "print(confusion_matrix(train_labels, gm_labels))\n",
    "print(classification_report(train_labels, gm_labels))"
   ]
  },
  {
   "cell_type": "code",
   "execution_count": null,
   "metadata": {
    "collapsed": false
   },
   "outputs": [],
   "source": [
    "from scipy.stats import kurtosis\n",
    "y = kurtosis(ica_all, fisher=True)\n",
    "x = np.arange(len(y)) "
   ]
  },
  {
   "cell_type": "code",
   "execution_count": null,
   "metadata": {
    "collapsed": false
   },
   "outputs": [],
   "source": [
    "kurt_max = x[y.argmax()]\n",
    "kurtosis_thresh = y.max()/2"
   ]
  },
  {
   "cell_type": "markdown",
   "metadata": {
    "collapsed": true
   },
   "source": [
    "### Visualize ICA components with highest Kurtosis"
   ]
  },
  {
   "cell_type": "code",
   "execution_count": null,
   "metadata": {
    "collapsed": false
   },
   "outputs": [],
   "source": [
    "tmp = [y > kurtosis_thresh]\n",
    "indx = np.where(tmp)[1]"
   ]
  },
  {
   "cell_type": "code",
   "execution_count": null,
   "metadata": {
    "collapsed": false
   },
   "outputs": [],
   "source": [
    "ica_all = pd.DataFrame(ica_all)\n",
    "ica_keep = ica_all[indx]"
   ]
  },
  {
   "cell_type": "code",
   "execution_count": null,
   "metadata": {
    "collapsed": false
   },
   "outputs": [],
   "source": [
    "indx"
   ]
  },
  {
   "cell_type": "code",
   "execution_count": null,
   "metadata": {
    "collapsed": false
   },
   "outputs": [],
   "source": [
    "fig = plt.figure(figsize=(13,4))\n",
    "ax1 = fig.add_subplot(121, projection='3d')\n",
    "ax1.scatter(ica_keep[indx[0]], ica_keep[indx[1]],ica_keep[indx[2]],c=train_labels,cmap='plasma')\n",
    "ax1.set_xlabel('IC0')\n",
    "ax1.set_ylabel('IC1')\n",
    "ax1.set_zlabel('IC2')\n",
    "plt.title('LC 3 Best Independent Components')\n",
    "\n",
    "ax2 = fig.add_subplot(122)\n",
    "plt.xlabel('Independent components', fontsize = 14)\n",
    "plt.ylabel('Kurtosis', fontsize = 14)\n",
    "plt.plot(x ,y, '-',lw=2., color='blue')\n",
    "plt.axvline(x=kurt_max,color='magenta', linestyle='--', linewidth=0.5)\n",
    "plt.axhline(y=kurtosis_thresh,color='magenta', linestyle='--', linewidth=0.5)\n",
    "plt.title('LC Kurtosis plot')\n",
    "fig.savefig('plots/LC_ica.pdf')"
   ]
  },
  {
   "cell_type": "markdown",
   "metadata": {},
   "source": [
    "### Apply k-means to reduced dim by ICA"
   ]
  },
  {
   "cell_type": "code",
   "execution_count": null,
   "metadata": {
    "collapsed": false
   },
   "outputs": [],
   "source": [
    "kmeans = KMeans(n_clusters=n_centroids, random_state = n_seed)\n",
    "kmeans.fit(ica_keep)\n",
    "print(confusion_matrix(train_labels,kmeans.labels_))\n",
    "print(classification_report(train_labels,kmeans.labels_))"
   ]
  },
  {
   "cell_type": "markdown",
   "metadata": {},
   "source": [
    "### Apply EM to reduced dim by ICA"
   ]
  },
  {
   "cell_type": "code",
   "execution_count": null,
   "metadata": {
    "collapsed": false
   },
   "outputs": [],
   "source": [
    "gm = GaussianMixture(n_components=n_centroids, random_state=n_seed, max_iter=100)\n",
    "gm.fit(ica_keep)\n",
    "gm_labels = gm.predict(ica_keep)\n",
    "print(confusion_matrix(train_labels, gm_labels))\n",
    "print(classification_report(train_labels, gm_labels))"
   ]
  },
  {
   "cell_type": "markdown",
   "metadata": {
    "collapsed": true
   },
   "source": [
    "## Random Projections"
   ]
  },
  {
   "cell_type": "code",
   "execution_count": null,
   "metadata": {
    "collapsed": false
   },
   "outputs": [],
   "source": [
    "from sklearn import random_projection\n",
    "import scipy.sparse as sps\n",
    "from scipy.linalg import pinv\n",
    "from collections import defaultdict"
   ]
  },
  {
   "cell_type": "code",
   "execution_count": null,
   "metadata": {
    "collapsed": false
   },
   "outputs": [],
   "source": [
    "#transformer = random_projection.GaussianRandomProjection(eps=0.9,random_state=n_seed)\n",
    "#RP = transformer.fit_transform(train)"
   ]
  },
  {
   "cell_type": "code",
   "execution_count": null,
   "metadata": {
    "collapsed": true
   },
   "outputs": [],
   "source": [
    "def reconstructionError(projections,X):\n",
    "    W = projections.components_\n",
    "    if sps.issparse(W):\n",
    "        W = W.todense()\n",
    "    p = pinv(W)\n",
    "    reconstructed = ((p@W)@(X.T)).T # Unproject projected data\n",
    "    errors = np.square(X-reconstructed)\n",
    "    return np.nanmean(errors)"
   ]
  },
  {
   "cell_type": "code",
   "execution_count": null,
   "metadata": {
    "collapsed": false
   },
   "outputs": [],
   "source": [
    "tmp = defaultdict(dict)\n",
    "dims = train.shape[1]\n",
    "for iseed in range(1,11):\n",
    "    for dim in range(2,dims,2):\n",
    "        rp = random_projection.GaussianRandomProjection(random_state=iseed, n_components=dim)\n",
    "        rp.fit(train)  \n",
    "        tmp[dim][iseed] = reconstructionError(rp, train)\n",
    "tmp =pd.DataFrame(tmp).T"
   ]
  },
  {
   "cell_type": "code",
   "execution_count": null,
   "metadata": {
    "collapsed": false
   },
   "outputs": [],
   "source": [
    "fig = plt.figure(figsize=(5,4))\n",
    "y = tmp.mean(axis=1)\n",
    "x = np.arange(2,dims,2)\n",
    "ax2 = fig.add_subplot(111)\n",
    "plt.xlabel('Number of RP Components', fontsize = 14)\n",
    "plt.ylabel('Reconstruction Error', fontsize = 14)\n",
    "plt.plot(x ,y, '-o',lw=2., color='magenta')\n",
    "plt.title('LC Reconstruction Error')\n",
    "fig.savefig('plots/LC_rpa.pdf')"
   ]
  },
  {
   "cell_type": "code",
   "execution_count": null,
   "metadata": {
    "collapsed": true
   },
   "outputs": [],
   "source": []
  },
  {
   "cell_type": "code",
   "execution_count": null,
   "metadata": {
    "collapsed": true
   },
   "outputs": [],
   "source": []
  },
  {
   "cell_type": "code",
   "execution_count": null,
   "metadata": {
    "collapsed": true
   },
   "outputs": [],
   "source": []
  },
  {
   "cell_type": "code",
   "execution_count": null,
   "metadata": {
    "collapsed": true
   },
   "outputs": [],
   "source": []
  },
  {
   "cell_type": "code",
   "execution_count": null,
   "metadata": {
    "collapsed": true
   },
   "outputs": [],
   "source": []
  }
 ],
 "metadata": {
  "anaconda-cloud": {},
  "kernelspec": {
   "display_name": "Python [default]",
   "language": "python",
   "name": "python3"
  },
  "language_info": {
   "codemirror_mode": {
    "name": "ipython",
    "version": 3
   },
   "file_extension": ".py",
   "mimetype": "text/x-python",
   "name": "python",
   "nbconvert_exporter": "python",
   "pygments_lexer": "ipython3",
   "version": "3.5.2"
  }
 },
 "nbformat": 4,
 "nbformat_minor": 0
}
